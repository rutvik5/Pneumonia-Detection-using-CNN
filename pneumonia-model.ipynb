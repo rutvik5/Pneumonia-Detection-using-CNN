{
 "cells": [
  {
   "cell_type": "code",
   "execution_count": 1,
   "metadata": {},
   "outputs": [],
   "source": [
    "from tensorflow.keras.models import Sequential\n",
    "from tensorflow.keras.layers import Flatten, Dense, Conv2D, MaxPooling2D, Activation, Dropout\n",
    "from tensorflow.keras.utils import normalize\n",
    "from tensorflow.keras.models import load_model\n",
    "from tensorflow.keras.callbacks import TensorBoard\n",
    "from tensorflow.keras.metrics import Precision, Recall, SparseCategoricalAccuracy\n",
    "from tensorflow.keras.callbacks import ReduceLROnPlateau, EarlyStopping, ModelCheckpoint\n",
    "from tensorflow.keras.preprocessing.image import ImageDataGenerator\n",
    "from sklearn.metrics import accuracy_score\n",
    "from sklearn.metrics import precision_score\n",
    "from sklearn.metrics import recall_score\n",
    "from sklearn.metrics import f1_score\n",
    "from sklearn.metrics import confusion_matrix\n",
    "from matplotlib import pyplot as plt\n",
    "import seaborn as sn\n",
    "import pandas as pd\n",
    "from random import shuffle\n",
    "import numpy as np\n",
    "import os\n",
    "import pickle"
   ]
  },
  {
   "cell_type": "code",
   "execution_count": 2,
   "metadata": {},
   "outputs": [],
   "source": [
    "def load_pickle(file):\n",
    "    filename = '../input/'+file+'.pickle'\n",
    "    with open(filename, 'rb') as p:\n",
    "        return pickle.load(p)\n",
    "    \n",
    "X_train = load_pickle('X_train')\n",
    "y_train = load_pickle('y_train')\n",
    "X_test = load_pickle('X_test')\n",
    "y_test = load_pickle('y_test')\n",
    "\n",
    "#split 10% of train data into validation\n"
   ]
  },
  {
   "cell_type": "code",
   "execution_count": 3,
   "metadata": {},
   "outputs": [],
   "source": [
    "# randomize the data before training\n",
    "def shuffle_data(X,y):\n",
    "    zipped_train = list(zip(X,y))\n",
    "    shuffle(zipped_train)\n",
    "    X, y = zip(*zipped_train)\n",
    "    return np.array(X),np.array(y)\n",
    "\n",
    "X_train, y_train = shuffle_data(X_train, y_train)\n",
    "\n",
    "X_val,y_val = X_train[:520],y_train[:520] \n",
    "X_train,y_train = X_train[520:], y_train[520:]"
   ]
  },
  {
   "cell_type": "code",
   "execution_count": 4,
   "metadata": {},
   "outputs": [
    {
     "name": "stdout",
     "output_type": "stream",
     "text": [
      "Epoch 1/50\n",
      "73/73 [==============================] - 19s 255ms/step - loss: 1.0478 - sparse_categorical_accuracy: 0.4802 - val_loss: 1.0480 - val_sparse_categorical_accuracy: 0.4365\n",
      "Epoch 2/50\n",
      "73/73 [==============================] - 18s 246ms/step - loss: 0.8941 - sparse_categorical_accuracy: 0.5884 - val_loss: 0.7922 - val_sparse_categorical_accuracy: 0.6846\n",
      "Epoch 3/50\n",
      "73/73 [==============================] - 17s 232ms/step - loss: 0.8101 - sparse_categorical_accuracy: 0.6358 - val_loss: 0.7924 - val_sparse_categorical_accuracy: 0.6904\n",
      "Epoch 4/50\n",
      "73/73 [==============================] - 17s 233ms/step - loss: 0.7340 - sparse_categorical_accuracy: 0.6822 - val_loss: 0.7099 - val_sparse_categorical_accuracy: 0.6885\n",
      "Epoch 5/50\n",
      "73/73 [==============================] - 16s 217ms/step - loss: 0.7105 - sparse_categorical_accuracy: 0.6919 - val_loss: 0.6864 - val_sparse_categorical_accuracy: 0.7346\n",
      "Epoch 6/50\n",
      "73/73 [==============================] - 15s 209ms/step - loss: 0.6772 - sparse_categorical_accuracy: 0.7100 - val_loss: 0.7235 - val_sparse_categorical_accuracy: 0.7038\n",
      "Epoch 7/50\n",
      "73/73 [==============================] - 15s 205ms/step - loss: 0.6811 - sparse_categorical_accuracy: 0.7031 - val_loss: 0.7276 - val_sparse_categorical_accuracy: 0.6827\n",
      "Epoch 8/50\n",
      "73/73 [==============================] - 15s 206ms/step - loss: 0.6519 - sparse_categorical_accuracy: 0.7154 - val_loss: 0.6409 - val_sparse_categorical_accuracy: 0.7423\n",
      "Epoch 9/50\n",
      "73/73 [==============================] - 15s 208ms/step - loss: 0.6537 - sparse_categorical_accuracy: 0.7175 - val_loss: 0.6403 - val_sparse_categorical_accuracy: 0.7404\n",
      "Epoch 10/50\n",
      "73/73 [==============================] - 15s 207ms/step - loss: 0.6320 - sparse_categorical_accuracy: 0.7324 - val_loss: 0.6404 - val_sparse_categorical_accuracy: 0.7365\n",
      "Epoch 11/50\n",
      "73/73 [==============================] - 15s 208ms/step - loss: 0.6209 - sparse_categorical_accuracy: 0.7311 - val_loss: 0.6373 - val_sparse_categorical_accuracy: 0.7481\n",
      "Epoch 12/50\n",
      "73/73 [==============================] - 15s 210ms/step - loss: 0.6231 - sparse_categorical_accuracy: 0.7360 - val_loss: 0.6702 - val_sparse_categorical_accuracy: 0.7288\n",
      "Epoch 13/50\n",
      "73/73 [==============================] - 15s 207ms/step - loss: 0.5872 - sparse_categorical_accuracy: 0.7463 - val_loss: 0.6039 - val_sparse_categorical_accuracy: 0.7442\n",
      "Epoch 14/50\n",
      "73/73 [==============================] - 15s 206ms/step - loss: 0.5993 - sparse_categorical_accuracy: 0.7455 - val_loss: 0.6204 - val_sparse_categorical_accuracy: 0.7212\n",
      "Epoch 15/50\n",
      "73/73 [==============================] - 15s 207ms/step - loss: 0.5935 - sparse_categorical_accuracy: 0.7461 - val_loss: 0.5945 - val_sparse_categorical_accuracy: 0.7577\n",
      "Epoch 16/50\n",
      "73/73 [==============================] - 15s 207ms/step - loss: 0.5824 - sparse_categorical_accuracy: 0.7539 - val_loss: 0.6542 - val_sparse_categorical_accuracy: 0.7519\n",
      "Epoch 17/50\n",
      "73/73 [==============================] - 15s 209ms/step - loss: 0.5815 - sparse_categorical_accuracy: 0.7491 - val_loss: 0.5907 - val_sparse_categorical_accuracy: 0.7558\n",
      "Epoch 18/50\n",
      "73/73 [==============================] - 15s 212ms/step - loss: 0.5690 - sparse_categorical_accuracy: 0.7590 - val_loss: 0.5891 - val_sparse_categorical_accuracy: 0.7442\n",
      "Epoch 19/50\n",
      "73/73 [==============================] - 15s 211ms/step - loss: 0.5570 - sparse_categorical_accuracy: 0.7612 - val_loss: 0.5811 - val_sparse_categorical_accuracy: 0.7481\n",
      "Epoch 20/50\n",
      "73/73 [==============================] - 15s 208ms/step - loss: 0.5598 - sparse_categorical_accuracy: 0.7524 - val_loss: 0.6296 - val_sparse_categorical_accuracy: 0.7596\n",
      "Epoch 21/50\n",
      "73/73 [==============================] - 16s 216ms/step - loss: 0.5626 - sparse_categorical_accuracy: 0.7628 - val_loss: 0.6159 - val_sparse_categorical_accuracy: 0.7654\n",
      "Epoch 22/50\n",
      "73/73 [==============================] - 15s 206ms/step - loss: 0.5446 - sparse_categorical_accuracy: 0.7790 - val_loss: 0.5917 - val_sparse_categorical_accuracy: 0.7635\n",
      "Epoch 23/50\n",
      "73/73 [==============================] - 15s 209ms/step - loss: 0.5349 - sparse_categorical_accuracy: 0.7735 - val_loss: 0.5534 - val_sparse_categorical_accuracy: 0.7654\n",
      "Epoch 24/50\n",
      "73/73 [==============================] - 15s 205ms/step - loss: 0.5503 - sparse_categorical_accuracy: 0.7636 - val_loss: 0.5738 - val_sparse_categorical_accuracy: 0.7827\n",
      "Epoch 25/50\n",
      "73/73 [==============================] - 15s 206ms/step - loss: 0.5336 - sparse_categorical_accuracy: 0.7780 - val_loss: 0.5994 - val_sparse_categorical_accuracy: 0.7596\n",
      "Epoch 26/50\n",
      "73/73 [==============================] - 15s 204ms/step - loss: 0.5523 - sparse_categorical_accuracy: 0.7669 - val_loss: 0.5737 - val_sparse_categorical_accuracy: 0.7519\n",
      "Epoch 27/50\n",
      "73/73 [==============================] - 15s 208ms/step - loss: 0.5215 - sparse_categorical_accuracy: 0.7799 - val_loss: 0.5424 - val_sparse_categorical_accuracy: 0.7692\n",
      "Epoch 28/50\n",
      "73/73 [==============================] - 15s 208ms/step - loss: 0.5347 - sparse_categorical_accuracy: 0.7720 - val_loss: 0.6416 - val_sparse_categorical_accuracy: 0.7327\n",
      "Epoch 29/50\n",
      "73/73 [==============================] - 15s 205ms/step - loss: 0.5251 - sparse_categorical_accuracy: 0.7825 - val_loss: 0.5234 - val_sparse_categorical_accuracy: 0.7788\n",
      "Epoch 30/50\n",
      "73/73 [==============================] - 15s 204ms/step - loss: 0.5425 - sparse_categorical_accuracy: 0.7673 - val_loss: 0.5272 - val_sparse_categorical_accuracy: 0.7654\n",
      "Epoch 31/50\n",
      "73/73 [==============================] - 15s 205ms/step - loss: 0.5169 - sparse_categorical_accuracy: 0.7859 - val_loss: 0.5388 - val_sparse_categorical_accuracy: 0.7750\n",
      "Epoch 32/50\n",
      "73/73 [==============================] - 15s 209ms/step - loss: 0.5199 - sparse_categorical_accuracy: 0.7825 - val_loss: 0.5150 - val_sparse_categorical_accuracy: 0.7731\n",
      "Epoch 33/50\n",
      "73/73 [==============================] - 15s 207ms/step - loss: 0.5158 - sparse_categorical_accuracy: 0.7803 - val_loss: 0.5441 - val_sparse_categorical_accuracy: 0.7558\n",
      "Epoch 34/50\n",
      "73/73 [==============================] - 15s 206ms/step - loss: 0.5137 - sparse_categorical_accuracy: 0.7833 - val_loss: 0.5205 - val_sparse_categorical_accuracy: 0.7712\n",
      "Epoch 35/50\n",
      "73/73 [==============================] - 15s 207ms/step - loss: 0.4942 - sparse_categorical_accuracy: 0.7956 - val_loss: 0.5079 - val_sparse_categorical_accuracy: 0.7769\n",
      "Epoch 36/50\n",
      "73/73 [==============================] - 15s 206ms/step - loss: 0.5033 - sparse_categorical_accuracy: 0.7838 - val_loss: 0.5128 - val_sparse_categorical_accuracy: 0.7654\n",
      "Epoch 37/50\n",
      "73/73 [==============================] - 15s 205ms/step - loss: 0.5020 - sparse_categorical_accuracy: 0.7829 - val_loss: 0.5405 - val_sparse_categorical_accuracy: 0.7750\n",
      "Epoch 38/50\n",
      "73/73 [==============================] - 15s 206ms/step - loss: 0.4973 - sparse_categorical_accuracy: 0.7821 - val_loss: 0.5606 - val_sparse_categorical_accuracy: 0.7808\n",
      "Epoch 39/50\n",
      "73/73 [==============================] - 15s 209ms/step - loss: 0.5157 - sparse_categorical_accuracy: 0.7810 - val_loss: 0.5424 - val_sparse_categorical_accuracy: 0.7769\n",
      "Epoch 40/50\n",
      "73/73 [==============================] - 15s 208ms/step - loss: 0.5040 - sparse_categorical_accuracy: 0.7853 - val_loss: 0.6000 - val_sparse_categorical_accuracy: 0.7654\n",
      "Epoch 41/50\n",
      "73/73 [==============================] - 16s 213ms/step - loss: 0.5021 - sparse_categorical_accuracy: 0.7868 - val_loss: 0.4925 - val_sparse_categorical_accuracy: 0.8058\n",
      "Epoch 42/50\n",
      "73/73 [==============================] - 15s 205ms/step - loss: 0.5036 - sparse_categorical_accuracy: 0.7861 - val_loss: 0.5655 - val_sparse_categorical_accuracy: 0.7558\n",
      "Epoch 43/50\n",
      "73/73 [==============================] - 15s 206ms/step - loss: 0.4904 - sparse_categorical_accuracy: 0.7922 - val_loss: 0.5744 - val_sparse_categorical_accuracy: 0.7346\n",
      "Epoch 44/50\n",
      "73/73 [==============================] - 15s 206ms/step - loss: 0.4978 - sparse_categorical_accuracy: 0.7859 - val_loss: 0.5525 - val_sparse_categorical_accuracy: 0.7654\n",
      "Epoch 45/50\n",
      "73/73 [==============================] - 15s 204ms/step - loss: 0.4816 - sparse_categorical_accuracy: 0.7984 - val_loss: 0.5154 - val_sparse_categorical_accuracy: 0.7442\n",
      "Epoch 46/50\n",
      "73/73 [==============================] - 15s 204ms/step - loss: 0.4841 - sparse_categorical_accuracy: 0.7945 - val_loss: 0.4835 - val_sparse_categorical_accuracy: 0.8000\n",
      "Epoch 47/50\n",
      "73/73 [==============================] - 15s 205ms/step - loss: 0.4827 - sparse_categorical_accuracy: 0.8014 - val_loss: 0.5292 - val_sparse_categorical_accuracy: 0.7962\n",
      "Epoch 48/50\n",
      "73/73 [==============================] - 15s 205ms/step - loss: 0.4725 - sparse_categorical_accuracy: 0.7987 - val_loss: 0.5430 - val_sparse_categorical_accuracy: 0.7712\n",
      "Epoch 49/50\n",
      "73/73 [==============================] - 15s 206ms/step - loss: 0.4944 - sparse_categorical_accuracy: 0.7920 - val_loss: 0.5020 - val_sparse_categorical_accuracy: 0.7788\n",
      "Epoch 50/50\n",
      "73/73 [==============================] - 15s 205ms/step - loss: 0.4733 - sparse_categorical_accuracy: 0.8023 - val_loss: 0.5023 - val_sparse_categorical_accuracy: 0.7788\n"
     ]
    }
   ],
   "source": [
    "bsize = 64\n",
    "epochs = 50\n",
    "\n",
    "aug = ImageDataGenerator(rotation_range=20,\tzoom_range=0.3,\tvertical_flip=True)\n",
    "#build model using keras\n",
    "\n",
    "model = Sequential()\n",
    "\n",
    "model.add(Conv2D(32, (3,3), input_shape = X_train.shape[1:]))\n",
    "model.add(Activation('relu'))\n",
    "model.add(MaxPooling2D(pool_size = (2,2)))\n",
    "\n",
    "model.add(Conv2D(64, (3,3)))\n",
    "model.add(Activation('relu'))\n",
    "model.add(MaxPooling2D(pool_size = (2,2)))\n",
    "\n",
    "model.add(Conv2D(128, (3,3)))\n",
    "model.add(Activation('relu'))\n",
    "model.add(MaxPooling2D(pool_size = (2,2)))\n",
    "model.add(Dropout(0.2))\n",
    "\n",
    "model.add(Conv2D(128, (3,3)))\n",
    "model.add(Activation('relu'))\n",
    "model.add(MaxPooling2D(pool_size = (2,2)))\n",
    "model.add(Dropout(0.2))\n",
    "\n",
    "model.add(Flatten())\n",
    "model.add(Dense(64))\n",
    "model.add(Activation('relu'))\n",
    "\n",
    "model.add(Dense(3))\n",
    "model.add(Activation('softmax'))\n",
    "\n",
    "model.compile(optimizer = 'rmsprop', loss = 'sparse_categorical_crossentropy', metrics = [SparseCategoricalAccuracy()])\n",
    "\n",
    "hist = model.fit_generator(aug.flow(X_train,y_train, batch_size = bsize), \n",
    "                          steps_per_epoch=len(X_train) // bsize,\n",
    "                          epochs = epochs,\n",
    "                          validation_data= (X_val, y_val))\n",
    "\n",
    "model.save('pneumonia_train.h5')\n",
    "\n"
   ]
  },
  {
   "cell_type": "code",
   "execution_count": 5,
   "metadata": {},
   "outputs": [],
   "source": [
    "# model = load_model('best_model.hdf5')\n",
    "train_acc = model.evaluate(X_train,y_train ,verbose = False)\n",
    "test_acc = model.evaluate(X_test, y_test, verbose = False)\n",
    "yhat_classes = model.predict_classes(X_test, verbose=0)"
   ]
  },
  {
   "cell_type": "code",
   "execution_count": 6,
   "metadata": {},
   "outputs": [
    {
     "name": "stdout",
     "output_type": "stream",
     "text": [
      "Training: Accuracy = 0.8204584121704102\n",
      "Test: Accuracy = 0.8317307829856873\n",
      "\n",
      "Training: Loss = 0.42430439829219174\n",
      "Test: Loss = 0.5255401516572024\n",
      "\n"
     ]
    }
   ],
   "source": [
    "print(f'Training: Accuracy = {train_acc[1]}')\n",
    "print(f'Test: Accuracy = {test_acc[1]}\\n')\n",
    "\n",
    "print(f'Training: Loss = {train_acc[0]}')\n",
    "print(f'Test: Loss = {test_acc[0]}\\n')\n"
   ]
  },
  {
   "cell_type": "code",
   "execution_count": 7,
   "metadata": {},
   "outputs": [
    {
     "data": {
      "image/png": "[encoded data removed]",
      "text/plain": [
       "<Figure size 432x288 with 2 Axes>"
      ]
     },
     "metadata": {
      "needs_background": "light"
     },
     "output_type": "display_data"
    }
   ],
   "source": [
    "#PLot graphs for loss and accuracy yduring training\n",
    "\n",
    "# plot loss during training\n",
    "plt.subplot(211)\n",
    "plt.title('Loss')\n",
    "plt.plot(hist.history['loss'], label='train')\n",
    "plt.plot(hist.history['val_loss'], label='val')\n",
    "plt.legend()\n",
    "# plot accuracy during training\n",
    "plt.subplot(212)\n",
    "plt.title('Accuracy')\n",
    "plt.plot(hist.history['sparse_categorical_accuracy'], label='train')\n",
    "plt.plot(hist.history['val_sparse_categorical_accuracy'], label='val')\n",
    "plt.legend()\n",
    "plt.show()"
   ]
  },
  {
   "cell_type": "code",
   "execution_count": 8,
   "metadata": {},
   "outputs": [
    {
     "name": "stdout",
     "output_type": "stream",
     "text": [
      "Accuracy: 0.831731\n",
      "Precision: 0.831731\n",
      "Recall: 0.831731\n",
      "F1 score: 0.831731\n",
      "Confusion Matrix:\n",
      "[[176  17  41]\n",
      " [  3 233   6]\n",
      " [  0  38 110]]\n"
     ]
    },
    {
     "data": {
      "text/plain": [
       "<matplotlib.axes._subplots.AxesSubplot at 0x7fd7092b24a8>"
      ]
     },
     "execution_count": 8,
     "metadata": {},
     "output_type": "execute_result"
    },
    {
     "data": {
      "image/png": "[encoded data removed]",
      "text/plain": [
       "<Figure size 720x504 with 2 Axes>"
      ]
     },
     "metadata": {
      "needs_background": "light"
     },
     "output_type": "display_data"
    }
   ],
   "source": [
    "# predict classes for test set\n",
    "\n",
    "# reduce to 1d array\n",
    "# yhat_classes = yhat_classes[:, 0]\n",
    " \n",
    "# accuracy: (tp + tn) / (p + n)\n",
    "accuracy = accuracy_score(y_test, yhat_classes)\n",
    "print('Accuracy: %f' % accuracy)\n",
    "\n",
    "# precision tp / (tp + fp)\n",
    "precision = precision_score(y_test, yhat_classes, average = 'micro')\n",
    "print('Precision: %f' % precision)\n",
    "\n",
    "# recall: tp / (tp + fn)\n",
    "recall = recall_score(y_test, yhat_classes, average = 'micro')\n",
    "print('Recall: %f' % recall)\n",
    "\n",
    "# f1: 2 tp / (2 tp + fp + fn)\n",
    "f1 = f1_score(y_test, yhat_classes, average = 'micro')\n",
    "print('F1 score: %f' % f1)\n",
    "\n",
    "# confusion matrix\n",
    "matrix = confusion_matrix(y_test, yhat_classes)\n",
    "print(f'Confusion Matrix:\\n{matrix}')\n",
    "\n",
    "categories = ['Normal', 'Bacteria-Pneumonia', 'Virus-Pneumonia']\n",
    "df_cm = pd.DataFrame(matrix, index = [i for i in categories],\n",
    "                  columns = [i for i in categories])\n",
    "plt.figure(figsize = (10,7))\n",
    "sn.heatmap(df_cm, annot = True)"
   ]
  },
  {
   "cell_type": "code",
   "execution_count": 9,
   "metadata": {},
   "outputs": [],
   "source": [
    "model = load_model('pneumonia_train.h5')\n",
    "model_eval = model.evaluate(X_test, y_test, verbose = 0)"
   ]
  },
  {
   "cell_type": "code",
   "execution_count": 10,
   "metadata": {},
   "outputs": [
    {
     "name": "stdout",
     "output_type": "stream",
     "text": [
      "[0.5255401516572024, 0.8317308]\n"
     ]
    }
   ],
   "source": [
    "print(model_eval)"
   ]
  },
  {
   "cell_type": "code",
   "execution_count": null,
   "metadata": {},
   "outputs": [],
   "source": []
  }
 ],
 "metadata": {
  "kernelspec": {
   "display_name": "Python 3",
   "language": "python",
   "name": "python3"
  },
  "language_info": {
   "codemirror_mode": {
    "name": "ipython",
    "version": 3
   },
   "file_extension": ".py",
   "mimetype": "text/x-python",
   "name": "python",
   "nbconvert_exporter": "python",
   "pygments_lexer": "ipython3",
   "version": "3.6.6"
  }
 },
 "nbformat": 4,
 "nbformat_minor": 1
}
