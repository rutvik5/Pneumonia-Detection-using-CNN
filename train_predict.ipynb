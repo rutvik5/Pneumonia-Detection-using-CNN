{
 "cells": [
  {
   "cell_type": "code",
   "execution_count": 10,
   "metadata": {},
   "outputs": [],
   "source": [
    "from tensorflow.keras.models import Sequential\n",
    "from tensorflow.keras.layers import Flatten, Dense, Conv2D, MaxPooling2D, Activation\n",
    "from tensorflow.keras.utils import normalize\n",
    "from tensorflow.keras.models import load_model\n",
    "from tensorflow.keras.callbacks import TensorBoard\n",
    "from tensorflow.keras.metrics import Precision, Recall, SparseCategoricalAccuracy\n",
    "from sklearn.metrics import accuracy_score\n",
    "from sklearn.metrics import precision_score\n",
    "from sklearn.metrics import recall_score\n",
    "from sklearn.metrics import f1_score\n",
    "from sklearn.metrics import confusion_matrix\n",
    "from matplotlib import pyplot as plt\n",
    "import seaborn as sn\n",
    "import pandas as pd\n",
    "from random import shuffle\n",
    "import os\n",
    "import pickle"
   ]
  },
  {
   "cell_type": "code",
   "execution_count": 2,
   "metadata": {},
   "outputs": [],
   "source": [
    "def load_pickle(file):\n",
    "    filename = file+'.pickle'\n",
    "    with open(filename, 'rb') as p:\n",
    "        return pickle.load(p)\n",
    "\n",
    "X_train = load_pickle('X_train')\n",
    "y_train = load_pickle('y_train')\n",
    "X_test = load_pickle('X_test')\n",
    "y_test = load_pickle('y_test')"
   ]
  },
  {
   "cell_type": "code",
   "execution_count": 3,
   "metadata": {},
   "outputs": [
    {
     "name": "stdout",
     "output_type": "stream",
     "text": [
      "Train on 4708 samples, validate on 524 samples\n",
      "Epoch 1/10\n",
      "4708/4708 [==============================] - 225s 48ms/sample - loss: 1.0567 - sparse_categorical_accuracy: 0.5030 - val_loss: 0.9445 - val_sparse_categorical_accuracy: 0.5840\n",
      "Epoch 2/10\n",
      "4708/4708 [==============================] - 221s 47ms/sample - loss: 0.7946 - sparse_categorical_accuracy: 0.6648 - val_loss: 0.7903 - val_sparse_categorical_accuracy: 0.6622\n",
      "Epoch 3/10\n",
      "4708/4708 [==============================] - 222s 47ms/sample - loss: 0.6166 - sparse_categorical_accuracy: 0.7460 - val_loss: 0.5187 - val_sparse_categorical_accuracy: 0.7481\n",
      "Epoch 4/10\n",
      "4708/4708 [==============================] - 225s 48ms/sample - loss: 0.5714 - sparse_categorical_accuracy: 0.7538 - val_loss: 0.5638 - val_sparse_categorical_accuracy: 0.7729\n",
      "Epoch 5/10\n",
      "4708/4708 [==============================] - 226s 48ms/sample - loss: 0.5123 - sparse_categorical_accuracy: 0.7797 - val_loss: 0.5367 - val_sparse_categorical_accuracy: 0.7710\n",
      "Epoch 6/10\n",
      "4708/4708 [==============================] - 223s 47ms/sample - loss: 0.4887 - sparse_categorical_accuracy: 0.7844 - val_loss: 0.6242 - val_sparse_categorical_accuracy: 0.7290\n",
      "Epoch 7/10\n",
      "4708/4708 [==============================] - 222s 47ms/sample - loss: 0.4616 - sparse_categorical_accuracy: 0.7925 - val_loss: 0.4458 - val_sparse_categorical_accuracy: 0.8092\n",
      "Epoch 8/10\n",
      "4708/4708 [==============================] - 221s 47ms/sample - loss: 0.4415 - sparse_categorical_accuracy: 0.8050 - val_loss: 0.4720 - val_sparse_categorical_accuracy: 0.7786\n",
      "Epoch 9/10\n",
      "4708/4708 [==============================] - 220s 47ms/sample - loss: 0.4151 - sparse_categorical_accuracy: 0.8158 - val_loss: 0.4634 - val_sparse_categorical_accuracy: 0.8034\n",
      "Epoch 10/10\n",
      "4708/4708 [==============================] - 213s 45ms/sample - loss: 0.4002 - sparse_categorical_accuracy: 0.8235 - val_loss: 0.4213 - val_sparse_categorical_accuracy: 0.8149\n"
     ]
    }
   ],
   "source": [
    "#build model using keras\n",
    "\n",
    "model = Sequential()\n",
    "\n",
    "# tensorboard = TensorBoard()\n",
    "\n",
    "model.add(Conv2D(32, (3,3), input_shape = X_train.shape[1:]))\n",
    "model.add(Activation('relu'))\n",
    "model.add(MaxPooling2D(pool_size = (2,2)))\n",
    "\n",
    "model.add(Conv2D(64, (3,3)))\n",
    "model.add(Activation('relu'))\n",
    "model.add(MaxPooling2D(pool_size = (2,2)))\n",
    "\n",
    "model.add(Conv2D(128, (3,3)))\n",
    "model.add(Activation('relu'))\n",
    "model.add(MaxPooling2D(pool_size = (2,2)))\n",
    "\n",
    "model.add(Conv2D(128, (3,3)))\n",
    "model.add(Activation('relu'))\n",
    "model.add(MaxPooling2D(pool_size = (2,2)))\n",
    "\n",
    "model.add(Flatten())\n",
    "model.add(Dense(64))\n",
    "model.add(Activation('relu'))\n",
    "\n",
    "model.add(Dense(3))\n",
    "model.add(Activation('softmax'))\n",
    "\n",
    "model.compile(optimizer = 'rmsprop', loss = 'sparse_categorical_crossentropy', metrics = [SparseCategoricalAccuracy()])\n",
    "\n",
    "hist = model.fit(X_train,y_train, batch_size = 128, epochs = 10, validation_split = 0.1)\n",
    "\n",
    "model.save('pneumonia_train.h5')"
   ]
  },
  {
   "cell_type": "code",
   "execution_count": 4,
   "metadata": {},
   "outputs": [],
   "source": [
    "train_acc = model.evaluate(X_train,y_train ,verbose = False)\n",
    "test_acc = model.evaluate(X_test, y_test, verbose = False)\n",
    "yhat_classes = model.predict_classes(X_test, verbose=0)"
   ]
  },
  {
   "cell_type": "code",
   "execution_count": 24,
   "metadata": {},
   "outputs": [
    {
     "name": "stdout",
     "output_type": "stream",
     "text": [
      "Training: Accuracy = 0.8453746438026428\n",
      "\n",
      "Test: Accuracy = 0.7756410241127014\n",
      "[0.797048956919939, 0.775641]\n",
      "[0.356100662859208, 0.84537464]\n"
     ]
    }
   ],
   "source": [
    "print(f'Training: Accuracy = {train_acc[1]}\\n')\n",
    "print(f'Test: Accuracy = {test_acc[1]}')\n",
    "\n",
    "print(test_acc)\n",
    "print(train_acc)"
   ]
  },
  {
   "cell_type": "code",
   "execution_count": 21,
   "metadata": {},
   "outputs": [
    {
     "data": {
      "image/png": "[encoded data removed]",
      "text/plain": [
       "<Figure size 432x288 with 2 Axes>"
      ]
     },
     "metadata": {
      "needs_background": "light"
     },
     "output_type": "display_data"
    }
   ],
   "source": [
    "#PLot graphs for loss and accuracy yduring training\n",
    "\n",
    "# plot loss during training\n",
    "plt.subplot(211)\n",
    "plt.title('Loss')\n",
    "plt.plot(hist.history['loss'], label='train')\n",
    "plt.plot(hist.history['val_loss'], label='test')\n",
    "plt.legend()\n",
    "# plot accuracy during training\n",
    "plt.subplot(212)\n",
    "plt.title('Accuracy')\n",
    "plt.plot(hist.history['sparse_categorical_accuracy'], label='train')\n",
    "plt.plot(hist.history['val_sparse_categorical_accuracy'], label='test')\n",
    "plt.legend()\n",
    "plt.show()"
   ]
  },
  {
   "cell_type": "code",
   "execution_count": 23,
   "metadata": {},
   "outputs": [
    {
     "name": "stdout",
     "output_type": "stream",
     "text": [
      "Accuracy: 0.775641\n",
      "Precision: 0.791342\n",
      "Recall: 0.770273\n",
      "F1 score: 0.757435\n",
      "Confusion Matrix:\n",
      "[[138  25  71]\n",
      " [  0 235   7]\n",
      " [  1  36 111]]\n"
     ]
    },
    {
     "data": {
      "text/plain": [
       "<matplotlib.axes._subplots.AxesSubplot at 0x18c810b6a20>"
      ]
     },
     "execution_count": 23,
     "metadata": {},
     "output_type": "execute_result"
    },
    {
     "data": {
      "image/png": "[encoded data removed]",
      "text/plain": [
       "<Figure size 720x504 with 2 Axes>"
      ]
     },
     "metadata": {
      "needs_background": "light"
     },
     "output_type": "display_data"
    }
   ],
   "source": [
    "# predict classes for test set\n",
    "\n",
    "# reduce to 1d array\n",
    "# yhat_classes = yhat_classes[:, 0]\n",
    " \n",
    "# accuracy: (tp + tn) / (p + n)\n",
    "accuracy = accuracy_score(y_test, yhat_classes)\n",
    "print('Accuracy: %f' % accuracy)\n",
    "\n",
    "# precision tp / (tp + fp)\n",
    "precision = precision_score(y_test, yhat_classes, average = 'macro')\n",
    "print('Precision: %f' % precision)\n",
    "\n",
    "# recall: tp / (tp + fn)\n",
    "recall = recall_score(y_test, yhat_classes, average = 'macro')\n",
    "print('Recall: %f' % recall)\n",
    "\n",
    "# f1: 2 tp / (2 tp + fp + fn)\n",
    "f1 = f1_score(y_test, yhat_classes, average = 'macro')\n",
    "print('F1 score: %f' % f1)\n",
    "\n",
    "# confusion matrix\n",
    "matrix = confusion_matrix(y_test, yhat_classes)\n",
    "print(f'Confusion Matrix:\\n{matrix}')\n",
    "\n",
    "categories = ['Normal', 'Bacteria-Pneumonia', 'Virus-Pneumonia']\n",
    "df_cm = pd.DataFrame(matrix, index = [i for i in categories],\n",
    "                  columns = [i for i in categories])\n",
    "plt.figure(figsize = (10,7))\n",
    "sn.heatmap(df_cm, annot = True)"
   ]
  },
  {
   "cell_type": "code",
   "execution_count": null,
   "metadata": {},
   "outputs": [],
   "source": [
    "model = load_model('pneumonia_train.h5')\n",
    "model_eval = model.evaluate(X_test, y_test, verbose = 0)"
   ]
  },
  {
   "cell_type": "code",
   "execution_count": null,
   "metadata": {},
   "outputs": [],
   "source": [
    "print(model_eval)"
   ]
  }
 ],
 "metadata": {
  "kernelspec": {
   "display_name": "Python 3",
   "language": "python",
   "name": "python3"
  },
  "language_info": {
   "codemirror_mode": {
    "name": "ipython",
    "version": 3
   },
   "file_extension": ".py",
   "mimetype": "text/x-python",
   "name": "python",
   "nbconvert_exporter": "python",
   "pygments_lexer": "ipython3",
   "version": "3.7.3"
  }
 },
 "nbformat": 4,
 "nbformat_minor": 2
}
